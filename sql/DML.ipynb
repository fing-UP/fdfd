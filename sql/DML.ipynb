{
 "cells": [
  {
   "cell_type": "markdown",
   "metadata": {},
   "source": [
    "# DML: Data Manipulation Language\n",
    "Permite introducir datos para realizar tareas de consultas o modificación de los datos que contienen las Bases de Datos: insert, select, update y delete.\n",
    "\n",
    "### 1.\tInsertar valores\n",
    "\n",
    "•\tLos datos que ingresemos deben mantener la estructura en que fueron ordenados los atributos (en las sentencias de las tablas), y deben obedecer a los tipos de datos indicados. La sentencia correspondiente para añadir una tupla es la que sigue:\n",
    "\n",
    "\n"
   ]
  },
  {
   "cell_type": "code",
   "execution_count": null,
   "metadata": {},
   "outputs": [],
   "source": [
    "insert into [nombreTabla] values (valor1,valor2,valor3,…);"
   ]
  },
  {
   "cell_type": "markdown",
   "metadata": {},
   "source": [
    "\n",
    "•\tSi requerimos añadir varias tuplas, podemos repetir la misma sentencia.\n",
    "\n",
    "   <img src=\"fotos/42.PNG\" style=\"width:600px;\" > \n",
    "\n",
    "•\tTambién podemos separar una tupla de otra con comas:\n",
    "\n",
    "   <img src=\"fotos/43.PNG\" style=\"width:600px;\" >\n",
    "\n",
    "•\tSi se efectuó con éxito entonces veremos este mensaje en la consola:\n",
    "\n",
    "   <img src=\"fotos/44.PNG\" style=\"width:300px;\" >\n",
    "\n",
    " \n",
    "### 2.\tSelect\n",
    "\n",
    "•\tPara mostrar todos los registros, con datos que corresponden a una columna o varias, de una determinada tabla:\n",
    "\n"
   ]
  },
  {
   "cell_type": "code",
   "execution_count": null,
   "metadata": {},
   "outputs": [],
   "source": [
    "select [nombreColumna1], [nombreColumna2], …\n",
    "from [nombreTabla]"
   ]
  },
  {
   "cell_type": "code",
   "execution_count": null,
   "metadata": {},
   "outputs": [],
   "source": [
    "select codCliente, edad\n",
    "from cliente"
   ]
  },
  {
   "cell_type": "markdown",
   "metadata": {},
   "source": [
    "   <img src=\"fotos/45.PNG\" style=\"width:400px;\" >"
   ]
  },
  {
   "cell_type": "code",
   "execution_count": null,
   "metadata": {},
   "outputs": [],
   "source": [
    "select [* = todas las columnas]\n",
    "from [nombre Tabla]"
   ]
  },
  {
   "cell_type": "code",
   "execution_count": null,
   "metadata": {},
   "outputs": [],
   "source": [
    "select * from cliente\n",
    "select * from libro\n",
    "select * from compra"
   ]
  },
  {
   "cell_type": "markdown",
   "metadata": {},
   "source": [
    "   <img src=\"fotos/46.PNG\" style=\"width:600px;\" >\n",
    "   \n",
    "### 2. \tSelect Distinct\n",
    "\n",
    "•\tRespecto al caso, si quisiéramos saber cuáles son todas las universidades cuyos alumnos han comprado en la librería, necesitamos quitar duplicados de los registros, pues varios alumnos pueden provenir de la misma universidad. A continuación, agregaremos 3 registros más, cuyos estudiantes sean de la ‘UBA’.\n",
    "\n"
   ]
  },
  {
   "cell_type": "code",
   "execution_count": null,
   "metadata": {},
   "outputs": [],
   "source": [
    "insert into cliente values (6, 'Ana Luna', 17 , 'UBA');\n",
    "insert into cliente values (7, 'Ana Luna', 25 , 'UBA');\n",
    "insert into cliente values (8, 'Javier Wam', 20 , 'UBA');"
   ]
  },
  {
   "cell_type": "markdown",
   "metadata": {},
   "source": [
    "•\tVerificamos que se hayan agregado los nuevos registrados son select."
   ]
  },
  {
   "cell_type": "code",
   "execution_count": null,
   "metadata": {},
   "outputs": [],
   "source": [
    "select * from cliente"
   ]
  },
  {
   "cell_type": "markdown",
   "metadata": {},
   "source": [
    "<img src=\"fotos/48.PNG\" style=\"width:600px;\" >\n",
    "\n",
    "•\tPara mostrar todos los registros  sin duplicados, con datos que corresponden a una columna o varias, de una determinada tabla:\n"
   ]
  },
  {
   "cell_type": "code",
   "execution_count": null,
   "metadata": {},
   "outputs": [],
   "source": [
    "\n",
    "select distinct [nombreColumna1], [nombreColumna2], …\n",
    "from [nombreTabla]\n"
   ]
  },
  {
   "cell_type": "markdown",
   "metadata": {},
   "source": [
    "### 3.\tUpdate\n",
    "\n",
    "•\tPara modificar datos ya existentes en una tabla:"
   ]
  },
  {
   "cell_type": "code",
   "execution_count": null,
   "metadata": {},
   "outputs": [],
   "source": [
    "select district universidad \n",
    "from cliente"
   ]
  },
  {
   "cell_type": "markdown",
   "metadata": {},
   "source": [
    "   <img src=\"fotos/49.PNG\" style=\"width:400px;\" >\n"
   ]
  },
  {
   "cell_type": "code",
   "execution_count": null,
   "metadata": {},
   "outputs": [],
   "source": [
    "update [nombreTabla],\n",
    "set [nombreAtributo1]=[valor1], [nombreAtributo2]=[valor2], …\n",
    "where [condición]\n"
   ]
  },
  {
   "cell_type": "markdown",
   "metadata": {},
   "source": [
    "•\tEn este caso, modificaremos el registro 5.\n",
    "\n",
    "   <img src=\"fotos/50.PNG\" style=\"width:600px;\" > \n",
    "\n",
    "•\tModificaremos el nombre, la edad y la universidad del codCliente 5, y ejecutamos.\n",
    "\n",
    "   \n",
    "\n",
    "\n"
   ]
  },
  {
   "cell_type": "code",
   "execution_count": null,
   "metadata": {},
   "outputs": [],
   "source": [
    "update cliente\n",
    "set nombre='Juan Lazo', edad, universidad='USA'\n",
    "where codCliente=5;"
   ]
  },
  {
   "cell_type": "markdown",
   "metadata": {},
   "source": [
    "•\tConsultamos con select los registros de la tabla cliente, y vemos que se actualizó exitosamente."
   ]
  },
  {
   "cell_type": "code",
   "execution_count": null,
   "metadata": {},
   "outputs": [],
   "source": [
    "select * from cliente"
   ]
  },
  {
   "cell_type": "markdown",
   "metadata": {},
   "source": [
    "   <img src=\"fotos/52.PNG\" style=\"width:600px;\" >\n",
    "\n",
    "\n",
    "### 4.\tDelete"
   ]
  },
  {
   "cell_type": "markdown",
   "metadata": {},
   "source": [
    "## Contenido:\n",
    "\n",
    "<a href=\"https://fing-up.github.io/Ingenieria-de-datos/sql/Introduccion.html\">I.\tIntroducción a SQL</a>\n",
    "\n",
    "<a href=\"https://fing-up.github.io/Ingenieria-de-datos/sql/DDL.html\">II.\tDDL: Data Definition Language</a>\n",
    "\n",
    "III.\tDML: Data Manipulation Language\n",
    "\n",
    "<a href=\"https://fing-up.github.io/Ingenieria-de-datos/sql/CD.html\">IV.\tConsultas Condicionales</a>\n",
    "\n",
    "<a href=\"https://fing-up.github.io/Ingenieria-de-datos/sql/CB.html\">V.\tConsultas Básicas</a>\n",
    "\n",
    "<a href=\"https://fing-up.github.io/Ingenieria-de-datos/sql/CA.html\">VII.\tConsultas Agrupada</a>\n"
   ]
  },
  {
   "cell_type": "code",
   "execution_count": null,
   "metadata": {},
   "outputs": [],
   "source": []
  }
 ],
 "metadata": {
  "kernelspec": {
   "display_name": "Python 3",
   "language": "python",
   "name": "python3"
  },
  "language_info": {
   "codemirror_mode": {
    "name": "ipython",
    "version": 3
   },
   "file_extension": ".py",
   "mimetype": "text/x-python",
   "name": "python",
   "nbconvert_exporter": "python",
   "pygments_lexer": "ipython3",
   "version": "3.7.6"
  }
 },
 "nbformat": 4,
 "nbformat_minor": 4
}
